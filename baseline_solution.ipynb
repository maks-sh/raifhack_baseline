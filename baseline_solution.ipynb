{
 "cells": [
  {
   "cell_type": "markdown",
   "metadata": {},
   "source": [
    "# Онлайн-хакатон Райффайзенбанка в области Data Science\n",
    "\n",
    "\n",
    "Ключевая информация:\n",
    "\n",
    "* Скор на паблике: 1.4241\n",
    "* Примерное место на паблике: 43\n",
    "* Обучение только на `price_type == 1`\n",
    "* Рассказ про adversarial validation\n",
    "* Рассказ про схему валидации\n",
    "* Визуализация геоданных с помощью библиотеки keplergl\n",
    "\n",
    "\n",
    "----"
   ]
  },
  {
   "cell_type": "markdown",
   "metadata": {},
   "source": [
    "Установим необходимые библиотеки"
   ]
  },
  {
   "cell_type": "code",
   "execution_count": 1,
   "metadata": {
    "ExecuteTime": {
     "end_time": "2021-09-25T18:31:26.101470Z",
     "start_time": "2021-09-25T18:31:24.514293Z"
    }
   },
   "outputs": [
    {
     "name": "stdout",
     "output_type": "stream",
     "text": [
      "Requirement already satisfied: tqdm in /usr/local/lib/python3.8/site-packages (4.50.2)\n",
      "Requirement already satisfied: matplotlib in /usr/local/lib/python3.8/site-packages (3.3.2)\n",
      "Requirement already satisfied: catboost in /usr/local/lib/python3.8/site-packages (0.26)\n",
      "Requirement already satisfied: keplergl in /usr/local/lib/python3.8/site-packages (0.2.1)\n",
      "Requirement already satisfied: six in /usr/local/lib/python3.8/site-packages (from catboost) (1.15.0)\n",
      "Requirement already satisfied: numpy>=1.16.0 in /usr/local/lib/python3.8/site-packages (from catboost) (1.19.2)\n",
      "Requirement already satisfied: graphviz in /usr/local/lib/python3.8/site-packages (from catboost) (0.16)\n",
      "Requirement already satisfied: scipy in /usr/local/lib/python3.8/site-packages (from catboost) (1.5.2)\n",
      "Requirement already satisfied: plotly in /usr/local/lib/python3.8/site-packages (from catboost) (5.1.0)\n",
      "Requirement already satisfied: pandas>=0.24.0 in /usr/local/lib/python3.8/site-packages (from catboost) (1.1.2)\n",
      "Requirement already satisfied: pytz>=2017.2 in /usr/local/lib/python3.8/site-packages (from pandas>=0.24.0->catboost) (2020.1)\n",
      "Requirement already satisfied: python-dateutil>=2.7.3 in /usr/local/lib/python3.8/site-packages (from pandas>=0.24.0->catboost) (2.8.1)\n",
      "Requirement already satisfied: Shapely>=1.6.4.post2 in /usr/local/lib/python3.8/site-packages (from keplergl) (1.7.1)\n",
      "Requirement already satisfied: ipywidgets<8,>=7.0.0 in /usr/local/lib/python3.8/site-packages (from keplergl) (7.5.1)\n",
      "Requirement already satisfied: geopandas>=0.5.0 in /usr/local/lib/python3.8/site-packages (from keplergl) (0.8.1)\n",
      "Requirement already satisfied: traittypes>=0.2.1 in /usr/local/lib/python3.8/site-packages (from keplergl) (0.2.1)\n",
      "Requirement already satisfied: fiona in /usr/local/lib/python3.8/site-packages (from geopandas>=0.5.0->keplergl) (1.8.17)\n",
      "Requirement already satisfied: pyproj>=2.2.0 in /usr/local/lib/python3.8/site-packages (from geopandas>=0.5.0->keplergl) (2.6.1.post1)\n",
      "Requirement already satisfied: nbformat>=4.2.0 in /usr/local/lib/python3.8/site-packages (from ipywidgets<8,>=7.0.0->keplergl) (5.0.7)\n",
      "Requirement already satisfied: traitlets>=4.3.1 in /usr/local/lib/python3.8/site-packages (from ipywidgets<8,>=7.0.0->keplergl) (5.0.4)\n",
      "Requirement already satisfied: ipykernel>=4.5.1 in /usr/local/lib/python3.8/site-packages (from ipywidgets<8,>=7.0.0->keplergl) (5.3.4)\n",
      "Requirement already satisfied: widgetsnbextension~=3.5.0 in /usr/local/lib/python3.8/site-packages (from ipywidgets<8,>=7.0.0->keplergl) (3.5.1)\n",
      "Requirement already satisfied: ipython>=4.0.0 in /usr/local/lib/python3.8/site-packages (from ipywidgets<8,>=7.0.0->keplergl) (7.18.1)\n",
      "Requirement already satisfied: appnope in /usr/local/lib/python3.8/site-packages (from ipykernel>=4.5.1->ipywidgets<8,>=7.0.0->keplergl) (0.1.0)\n",
      "Requirement already satisfied: jupyter-client in /usr/local/lib/python3.8/site-packages (from ipykernel>=4.5.1->ipywidgets<8,>=7.0.0->keplergl) (6.1.7)\n",
      "Requirement already satisfied: tornado>=4.2 in /usr/local/lib/python3.8/site-packages (from ipykernel>=4.5.1->ipywidgets<8,>=7.0.0->keplergl) (6.0.4)\n",
      "Requirement already satisfied: setuptools>=18.5 in /usr/local/lib/python3.8/site-packages (from ipython>=4.0.0->ipywidgets<8,>=7.0.0->keplergl) (53.0.0)\n",
      "Requirement already satisfied: jedi>=0.10 in /usr/local/lib/python3.8/site-packages (from ipython>=4.0.0->ipywidgets<8,>=7.0.0->keplergl) (0.17.2)\n",
      "Requirement already satisfied: pickleshare in /usr/local/lib/python3.8/site-packages (from ipython>=4.0.0->ipywidgets<8,>=7.0.0->keplergl) (0.7.5)\n",
      "Requirement already satisfied: pexpect>4.3 in /usr/local/lib/python3.8/site-packages (from ipython>=4.0.0->ipywidgets<8,>=7.0.0->keplergl) (4.8.0)\n",
      "Requirement already satisfied: prompt-toolkit!=3.0.0,!=3.0.1,<3.1.0,>=2.0.0 in /usr/local/lib/python3.8/site-packages (from ipython>=4.0.0->ipywidgets<8,>=7.0.0->keplergl) (3.0.7)\n",
      "Requirement already satisfied: pygments in /usr/local/lib/python3.8/site-packages (from ipython>=4.0.0->ipywidgets<8,>=7.0.0->keplergl) (2.6.1)\n",
      "Requirement already satisfied: backcall in /usr/local/lib/python3.8/site-packages (from ipython>=4.0.0->ipywidgets<8,>=7.0.0->keplergl) (0.2.0)\n",
      "Requirement already satisfied: decorator in /usr/local/lib/python3.8/site-packages (from ipython>=4.0.0->ipywidgets<8,>=7.0.0->keplergl) (4.4.2)\n",
      "Requirement already satisfied: parso<0.8.0,>=0.7.0 in /usr/local/lib/python3.8/site-packages (from jedi>=0.10->ipython>=4.0.0->ipywidgets<8,>=7.0.0->keplergl) (0.7.1)\n",
      "Requirement already satisfied: ipython-genutils in /usr/local/lib/python3.8/site-packages (from nbformat>=4.2.0->ipywidgets<8,>=7.0.0->keplergl) (0.2.0)\n",
      "Requirement already satisfied: jupyter-core in /usr/local/lib/python3.8/site-packages (from nbformat>=4.2.0->ipywidgets<8,>=7.0.0->keplergl) (4.6.3)\n",
      "Requirement already satisfied: jsonschema!=2.5.0,>=2.4 in /usr/local/lib/python3.8/site-packages (from nbformat>=4.2.0->ipywidgets<8,>=7.0.0->keplergl) (3.2.0)\n",
      "Requirement already satisfied: attrs>=17.4.0 in /usr/local/lib/python3.8/site-packages (from jsonschema!=2.5.0,>=2.4->nbformat>=4.2.0->ipywidgets<8,>=7.0.0->keplergl) (20.2.0)\n",
      "Requirement already satisfied: pyrsistent>=0.14.0 in /usr/local/lib/python3.8/site-packages (from jsonschema!=2.5.0,>=2.4->nbformat>=4.2.0->ipywidgets<8,>=7.0.0->keplergl) (0.17.3)\n",
      "Requirement already satisfied: ptyprocess>=0.5 in /usr/local/lib/python3.8/site-packages (from pexpect>4.3->ipython>=4.0.0->ipywidgets<8,>=7.0.0->keplergl) (0.6.0)\n",
      "Requirement already satisfied: wcwidth in /usr/local/lib/python3.8/site-packages (from prompt-toolkit!=3.0.0,!=3.0.1,<3.1.0,>=2.0.0->ipython>=4.0.0->ipywidgets<8,>=7.0.0->keplergl) (0.2.5)\n",
      "Requirement already satisfied: notebook>=4.4.1 in /usr/local/lib/python3.8/site-packages (from widgetsnbextension~=3.5.0->ipywidgets<8,>=7.0.0->keplergl) (6.1.4)\n",
      "Requirement already satisfied: terminado>=0.8.3 in /usr/local/lib/python3.8/site-packages (from notebook>=4.4.1->widgetsnbextension~=3.5.0->ipywidgets<8,>=7.0.0->keplergl) (0.9.0)\n",
      "Requirement already satisfied: argon2-cffi in /usr/local/lib/python3.8/site-packages (from notebook>=4.4.1->widgetsnbextension~=3.5.0->ipywidgets<8,>=7.0.0->keplergl) (20.1.0)\n",
      "Requirement already satisfied: pyzmq>=17 in /usr/local/lib/python3.8/site-packages (from notebook>=4.4.1->widgetsnbextension~=3.5.0->ipywidgets<8,>=7.0.0->keplergl) (19.0.2)\n",
      "Requirement already satisfied: Send2Trash in /usr/local/lib/python3.8/site-packages (from notebook>=4.4.1->widgetsnbextension~=3.5.0->ipywidgets<8,>=7.0.0->keplergl) (1.5.0)\n",
      "Requirement already satisfied: jinja2 in /usr/local/lib/python3.8/site-packages (from notebook>=4.4.1->widgetsnbextension~=3.5.0->ipywidgets<8,>=7.0.0->keplergl) (2.11.2)\n",
      "Requirement already satisfied: prometheus-client in /usr/local/lib/python3.8/site-packages (from notebook>=4.4.1->widgetsnbextension~=3.5.0->ipywidgets<8,>=7.0.0->keplergl) (0.8.0)\n",
      "Requirement already satisfied: nbconvert in /usr/local/lib/python3.8/site-packages (from notebook>=4.4.1->widgetsnbextension~=3.5.0->ipywidgets<8,>=7.0.0->keplergl) (6.0.4)\n",
      "Requirement already satisfied: pillow>=6.2.0 in /usr/local/lib/python3.8/site-packages (from matplotlib) (7.2.0)\n",
      "Requirement already satisfied: cycler>=0.10 in /usr/local/lib/python3.8/site-packages (from matplotlib) (0.10.0)\n",
      "Requirement already satisfied: pyparsing!=2.0.4,!=2.1.2,!=2.1.6,>=2.0.3 in /usr/local/lib/python3.8/site-packages (from matplotlib) (2.4.7)\n",
      "Requirement already satisfied: kiwisolver>=1.0.1 in /usr/local/lib/python3.8/site-packages (from matplotlib) (1.2.0)\n",
      "Requirement already satisfied: certifi>=2020.06.20 in /usr/local/lib/python3.8/site-packages (from matplotlib) (2020.6.20)\n",
      "Requirement already satisfied: cffi>=1.0.0 in /usr/local/lib/python3.8/site-packages (from argon2-cffi->notebook>=4.4.1->widgetsnbextension~=3.5.0->ipywidgets<8,>=7.0.0->keplergl) (1.14.2)\n",
      "Requirement already satisfied: pycparser in /usr/local/lib/python3.8/site-packages (from cffi>=1.0.0->argon2-cffi->notebook>=4.4.1->widgetsnbextension~=3.5.0->ipywidgets<8,>=7.0.0->keplergl) (2.20)\n",
      "Requirement already satisfied: click<8,>=4.0 in /usr/local/lib/python3.8/site-packages (from fiona->geopandas>=0.5.0->keplergl) (7.1.2)\n",
      "Requirement already satisfied: munch in /usr/local/lib/python3.8/site-packages (from fiona->geopandas>=0.5.0->keplergl) (2.5.0)\n",
      "Requirement already satisfied: click-plugins>=1.0 in /usr/local/lib/python3.8/site-packages (from fiona->geopandas>=0.5.0->keplergl) (1.1.1)\n",
      "Requirement already satisfied: cligj>=0.5 in /usr/local/lib/python3.8/site-packages (from fiona->geopandas>=0.5.0->keplergl) (0.5.0)\n"
     ]
    },
    {
     "name": "stdout",
     "output_type": "stream",
     "text": [
      "Requirement already satisfied: MarkupSafe>=0.23 in /usr/local/lib/python3.8/site-packages (from jinja2->notebook>=4.4.1->widgetsnbextension~=3.5.0->ipywidgets<8,>=7.0.0->keplergl) (1.1.1)\n",
      "Requirement already satisfied: jupyterlab-pygments in /usr/local/lib/python3.8/site-packages (from nbconvert->notebook>=4.4.1->widgetsnbextension~=3.5.0->ipywidgets<8,>=7.0.0->keplergl) (0.1.1)\n",
      "Requirement already satisfied: mistune<2,>=0.8.1 in /usr/local/lib/python3.8/site-packages (from nbconvert->notebook>=4.4.1->widgetsnbextension~=3.5.0->ipywidgets<8,>=7.0.0->keplergl) (0.8.4)\n",
      "Requirement already satisfied: bleach in /usr/local/lib/python3.8/site-packages (from nbconvert->notebook>=4.4.1->widgetsnbextension~=3.5.0->ipywidgets<8,>=7.0.0->keplergl) (3.2.1)\n",
      "Requirement already satisfied: testpath in /usr/local/lib/python3.8/site-packages (from nbconvert->notebook>=4.4.1->widgetsnbextension~=3.5.0->ipywidgets<8,>=7.0.0->keplergl) (0.4.4)\n",
      "Requirement already satisfied: defusedxml in /usr/local/lib/python3.8/site-packages (from nbconvert->notebook>=4.4.1->widgetsnbextension~=3.5.0->ipywidgets<8,>=7.0.0->keplergl) (0.6.0)\n",
      "Requirement already satisfied: nbclient<0.6.0,>=0.5.0 in /usr/local/lib/python3.8/site-packages (from nbconvert->notebook>=4.4.1->widgetsnbextension~=3.5.0->ipywidgets<8,>=7.0.0->keplergl) (0.5.0)\n",
      "Requirement already satisfied: entrypoints>=0.2.2 in /usr/local/lib/python3.8/site-packages (from nbconvert->notebook>=4.4.1->widgetsnbextension~=3.5.0->ipywidgets<8,>=7.0.0->keplergl) (0.3)\n",
      "Requirement already satisfied: pandocfilters>=1.4.1 in /usr/local/lib/python3.8/site-packages (from nbconvert->notebook>=4.4.1->widgetsnbextension~=3.5.0->ipywidgets<8,>=7.0.0->keplergl) (1.4.2)\n",
      "Requirement already satisfied: async-generator in /usr/local/lib/python3.8/site-packages (from nbclient<0.6.0,>=0.5.0->nbconvert->notebook>=4.4.1->widgetsnbextension~=3.5.0->ipywidgets<8,>=7.0.0->keplergl) (1.10)\n",
      "Requirement already satisfied: nest-asyncio in /usr/local/lib/python3.8/site-packages (from nbclient<0.6.0,>=0.5.0->nbconvert->notebook>=4.4.1->widgetsnbextension~=3.5.0->ipywidgets<8,>=7.0.0->keplergl) (1.4.0)\n",
      "Requirement already satisfied: webencodings in /usr/local/lib/python3.8/site-packages (from bleach->nbconvert->notebook>=4.4.1->widgetsnbextension~=3.5.0->ipywidgets<8,>=7.0.0->keplergl) (0.5.1)\n",
      "Requirement already satisfied: packaging in /usr/local/lib/python3.8/site-packages (from bleach->nbconvert->notebook>=4.4.1->widgetsnbextension~=3.5.0->ipywidgets<8,>=7.0.0->keplergl) (20.4)\n",
      "Requirement already satisfied: tenacity>=6.2.0 in /usr/local/lib/python3.8/site-packages (from plotly->catboost) (7.0.0)\n",
      "Note: you may need to restart the kernel to use updated packages.\n"
     ]
    }
   ],
   "source": [
    "pip install tqdm matplotlib catboost keplergl"
   ]
  },
  {
   "cell_type": "code",
   "execution_count": 2,
   "metadata": {
    "ExecuteTime": {
     "end_time": "2021-09-25T18:31:27.230045Z",
     "start_time": "2021-09-25T18:31:26.103332Z"
    }
   },
   "outputs": [],
   "source": [
    "import pandas as pd\n",
    "from matplotlib import pyplot as plt\n",
    "import numpy as np\n",
    "from catboost import CatBoostClassifier, CatBoostRegressor\n",
    "\n",
    "from sklearn.metrics import roc_auc_score\n",
    "from sklearn.base import clone\n",
    "from tqdm.auto import tqdm\n",
    "\n",
    "from keplergl import KeplerGl\n",
    "\n",
    "np.random.seed(42)"
   ]
  },
  {
   "cell_type": "markdown",
   "metadata": {},
   "source": [
    "Метрика, которую предоставили организаторы"
   ]
  },
  {
   "cell_type": "code",
   "execution_count": 3,
   "metadata": {
    "ExecuteTime": {
     "end_time": "2021-09-25T18:31:27.236022Z",
     "start_time": "2021-09-25T18:31:27.231896Z"
    }
   },
   "outputs": [],
   "source": [
    "def deviation_metric_one_sample(y_true, y_pred):\n",
    "    deviation = (y_pred - y_true) / np.maximum(1e-8, y_true)\n",
    "    if np.abs(deviation) <= 0.15: return 0\n",
    "    elif deviation <= -0.6:       return 9.9\n",
    "    elif deviation < -0.15:       return 1.1 * (deviation / 0.15 + 1) ** 2\n",
    "    elif deviation < 0.6:         return (deviation / 0.15 - 1) ** 2\n",
    "    return 9\n",
    "\n",
    "def deviation_metric(y_true, y_pred):\n",
    "    return np.array([deviation_metric_one_sample(y_true[n], y_pred[n]) for n in range(len(y_true))]).mean()"
   ]
  },
  {
   "cell_type": "code",
   "execution_count": 4,
   "metadata": {
    "ExecuteTime": {
     "end_time": "2021-09-25T18:31:29.658149Z",
     "start_time": "2021-09-25T18:31:27.238094Z"
    }
   },
   "outputs": [
    {
     "name": "stderr",
     "output_type": "stream",
     "text": [
      "/usr/local/lib/python3.8/site-packages/IPython/core/interactiveshell.py:3145: DtypeWarning: Columns (1) have mixed types.Specify dtype option on import or set low_memory=False.\n",
      "  has_raised = await self.run_ast_nodes(code_ast.body, cell_name,\n"
     ]
    }
   ],
   "source": [
    "test = pd.read_csv('./data/test.csv').rename({'per_square_meter_price': 'target'}, axis=1)\n",
    "test['train'] = 0\n",
    "test['target'] = 0\n",
    "\n",
    "train = pd.read_csv('./data/train.csv').rename({'per_square_meter_price': 'target'}, axis=1)\n",
    "train['train'] = 1\n",
    "\n",
    "dataset = pd.concat([train, test])"
   ]
  },
  {
   "cell_type": "markdown",
   "metadata": {},
   "source": [
    "Выделим важные колонки"
   ]
  },
  {
   "cell_type": "code",
   "execution_count": 5,
   "metadata": {
    "ExecuteTime": {
     "end_time": "2021-09-25T18:31:29.662569Z",
     "start_time": "2021-09-25T18:31:29.660009Z"
    }
   },
   "outputs": [],
   "source": [
    "key_cols = ['id', 'date', 'price_type', 'train', 'month', 'target']\n",
    "cat_cols = ['city', 'osm_city_nearest_name', 'region', 'realty_type', 'street', 'floor']"
   ]
  },
  {
   "cell_type": "markdown",
   "metadata": {},
   "source": [
    "Для удобства объединим выборки и добавим некоторые важные колонки.\n",
    "\n",
    "Также отфильтруем датасет :)"
   ]
  },
  {
   "cell_type": "code",
   "execution_count": 6,
   "metadata": {
    "ExecuteTime": {
     "end_time": "2021-09-25T18:31:30.558167Z",
     "start_time": "2021-09-25T18:31:29.664648Z"
    }
   },
   "outputs": [],
   "source": [
    "dataset[cat_cols] = dataset[cat_cols].astype(str).fillna('NAN')\n",
    "dataset['date'] = pd.to_datetime(dataset['date'])\n",
    "dataset['month'] = (\n",
    "    dataset['date'].dt.floor('d') + pd.offsets.MonthEnd(0) - pd.offsets.MonthBegin(1)\n",
    ")\n",
    "\n",
    "dataset = dataset[dataset['price_type']==1]"
   ]
  },
  {
   "cell_type": "markdown",
   "metadata": {},
   "source": [
    "# Небольшая визуализация"
   ]
  },
  {
   "cell_type": "code",
   "execution_count": 7,
   "metadata": {
    "ExecuteTime": {
     "end_time": "2021-09-25T18:31:30.750349Z",
     "start_time": "2021-09-25T18:31:30.559827Z"
    }
   },
   "outputs": [
    {
     "data": {
      "image/png": "[encoded data removed]",
      "text/plain": [
       "<Figure size 432x288 with 1 Axes>"
      ]
     },
     "metadata": {
      "needs_background": "light"
     },
     "output_type": "display_data"
    }
   ],
   "source": [
    "dataset['month'].value_counts().sort_index().plot(title='Кол-во объектов по месяцам');"
   ]
  },
  {
   "cell_type": "markdown",
   "metadata": {},
   "source": [
    "Интересно, что в последние два месяца, объект гораздо больше, чем в другие месяцы...\n",
    "\n",
    "Посмотрим, как географически распределены train и test:"
   ]
  },
  {
   "cell_type": "code",
   "execution_count": 8,
   "metadata": {
    "ExecuteTime": {
     "end_time": "2021-09-25T18:31:30.864935Z",
     "start_time": "2021-09-25T18:31:30.753719Z"
    }
   },
   "outputs": [
    {
     "name": "stdout",
     "output_type": "stream",
     "text": [
      "User Guide: https://docs.kepler.gl/docs/keplergl-jupyter\n"
     ]
    },
    {
     "data": {
      "application/vnd.jupyter.widget-view+json": {
       "model_id": "e0a8fa94f39249308ae9041d235222f0",
       "version_major": 2,
       "version_minor": 0
      },
      "text/plain": [
       "KeplerGl(data={'test':             lat         lng\n",
       "0     51.709255   36.147908\n",
       "1     61.233240   73.462509\n",
       "2  …"
      ]
     },
     "metadata": {},
     "output_type": "display_data"
    }
   ],
   "source": [
    "kepler_data = {\n",
    "    \"test\": dataset[dataset['train']==0][['lat', 'lng']],\n",
    "    \"train\": dataset[dataset['train']==1][['lat', 'lng']],\n",
    "}\n",
    "\n",
    "map1 = KeplerGl(height=400, data=kepler_data)\n",
    "map1"
   ]
  },
  {
   "cell_type": "markdown",
   "metadata": {},
   "source": [
    "Выглядит достаточно равномерно"
   ]
  },
  {
   "cell_type": "markdown",
   "metadata": {},
   "source": [
    "# Adversarial validation\n",
    "\n",
    "В данном разделе проверим, насколько сильно наша обучающая выборка отличается от тестовой.\n",
    "\n",
    "\n",
    "Для этого назовем `единичками` объекты из обучающей выбокри, `ноликами` - объекты из тестовой выборки.\n",
    "И на исходных признаках построим модель машинного обучения, которая будет пытаться отличить обучающую выборку от тестовой на основе признаков.\n",
    "\n",
    "Так как данные распределены по времени, то чтобы оценить качество нашей модели оставим по последнему месяцу из train и test.\n",
    "\n",
    "Если выборки не отличаются, то качество такой модели должно быть случайной.\n",
    "\n",
    "Для оценки качества модели будем использовать `ROC AUC`. Как мы знаем, `ROC AUC` случайного алгоритма должен быть в районе `0.5`."
   ]
  },
  {
   "cell_type": "code",
   "execution_count": 9,
   "metadata": {
    "ExecuteTime": {
     "end_time": "2021-09-25T18:31:39.888229Z",
     "start_time": "2021-09-25T18:31:30.866752Z"
    }
   },
   "outputs": [
    {
     "name": "stdout",
     "output_type": "stream",
     "text": [
      "Learning rate set to 0.022342\n",
      "0:\tlearn: 0.6909881\ttotal: 58.8ms\tremaining: 58.7s\n",
      "100:\tlearn: 0.6161894\ttotal: 1.11s\tremaining: 9.9s\n",
      "200:\tlearn: 0.5937461\ttotal: 1.97s\tremaining: 7.82s\n",
      "300:\tlearn: 0.5767069\ttotal: 2.77s\tremaining: 6.43s\n",
      "400:\tlearn: 0.5588018\ttotal: 3.56s\tremaining: 5.32s\n",
      "500:\tlearn: 0.5380880\ttotal: 4.49s\tremaining: 4.47s\n",
      "600:\tlearn: 0.5179787\ttotal: 5.39s\tremaining: 3.58s\n",
      "700:\tlearn: 0.4999933\ttotal: 6.25s\tremaining: 2.67s\n",
      "800:\tlearn: 0.4835562\ttotal: 7.14s\tremaining: 1.77s\n",
      "900:\tlearn: 0.4679176\ttotal: 7.97s\tremaining: 876ms\n",
      "999:\tlearn: 0.4541192\ttotal: 8.81s\tremaining: 0us\n",
      "0.48765809873521015\n"
     ]
    }
   ],
   "source": [
    "oot_train_month_adv = '2020-08-01'\n",
    "oot_val_month_adv = '2020-12-01'\n",
    "\n",
    "Xy_train_adv = dataset[~dataset['month'].isin([oot_train_month_adv, oot_val_month_adv])].reset_index(drop=True)\n",
    "Xy_test_adv = dataset[dataset['month'].isin([oot_train_month_adv, oot_val_month_adv])].reset_index(drop=True)\n",
    "\n",
    "\n",
    "adv_model = CatBoostClassifier(verbose=100)\n",
    "adv_model.fit(\n",
    "    Xy_train_adv.drop(key_cols, axis=1), \n",
    "    Xy_train_adv['train'],\n",
    "    cat_features=cat_cols\n",
    ")\n",
    "\n",
    "\n",
    "predict_adv = adv_model.predict(Xy_test_adv.drop(key_cols, axis=1))\n",
    "\n",
    "print(roc_auc_score(Xy_test_adv['train'], predict_adv))"
   ]
  },
  {
   "cell_type": "markdown",
   "metadata": {},
   "source": [
    "Качество нашей модели получилось околослучайное, а значит все в порядке"
   ]
  },
  {
   "cell_type": "markdown",
   "metadata": {},
   "source": [
    "# Модель"
   ]
  },
  {
   "cell_type": "markdown",
   "metadata": {},
   "source": [
    "Прежде, чем строить модель, давайте разберемся, как будем валидироваться.\n",
    "\n",
    "Как говорилось выше, данные распределены по времени, поэтому валидироваться не обходимо также по времени:\n",
    "\n",
    "![alt text](https://miro.medium.com/max/558/1*AXRu72CV1hdjLfODFGbMWQ.png \"Title\")\n",
    "\n"
   ]
  },
  {
   "cell_type": "code",
   "execution_count": 10,
   "metadata": {
    "ExecuteTime": {
     "end_time": "2021-09-25T18:31:39.896342Z",
     "start_time": "2021-09-25T18:31:39.889996Z"
    }
   },
   "outputs": [],
   "source": [
    "# месяц с которого начнем валидироваться\n",
    "start_month = '2020-04-01'\n",
    "\n",
    "# месяцы для валидации\n",
    "val_months = (\n",
    "    dataset[(dataset['train']==1) & (dataset['month'] > start_month)]['month']\n",
    "    .drop_duplicates()\n",
    "    .sort_values()\n",
    "    .tolist()\n",
    ")"
   ]
  },
  {
   "cell_type": "code",
   "execution_count": 11,
   "metadata": {
    "ExecuteTime": {
     "end_time": "2021-09-25T18:32:06.507988Z",
     "start_time": "2021-09-25T18:31:39.898647Z"
    }
   },
   "outputs": [
    {
     "data": {
      "application/vnd.jupyter.widget-view+json": {
       "model_id": "f91d64541e1548d1b3575e83280da1b2",
       "version_major": 2,
       "version_minor": 0
      },
      "text/plain": [
       "HBox(children=(HTML(value=''), FloatProgress(value=0.0, max=4.0), HTML(value='')))"
      ]
     },
     "metadata": {},
     "output_type": "display_data"
    },
    {
     "name": "stdout",
     "output_type": "stream",
     "text": [
      "\n",
      "Средняя метрика по бинам: 1.594\n",
      "Отклонение метрики по бинам: 0.160\n"
     ]
    }
   ],
   "source": [
    "main_model = CatBoostRegressor(loss_function='MAE', verbose=0)\n",
    "\n",
    "scores = []\n",
    "\n",
    "for month in tqdm(val_months):\n",
    "    Xy_train = dataset[(dataset['month'] < month)].reset_index(drop=True)\n",
    "    Xy_val = dataset[(dataset['month'] == month)].reset_index(drop=True)\n",
    "    \n",
    "    model = clone(main_model)\n",
    "    model = CatBoostRegressor(loss_function='MAE', verbose=0)\n",
    "    model = model.fit(Xy_train.drop(key_cols, axis=1), Xy_train['target'], cat_features=cat_cols)\n",
    "\n",
    "    metric = deviation_metric(Xy_val['target'], model.predict(Xy_val.drop(key_cols, axis=1)))\n",
    "    scores.append(metric)\n",
    "    \n",
    "print(f'Средняя метрика по бинам: {np.mean(scores):.3f}')\n",
    "print(f'Отклонение метрики по бинам: {np.std(scores):.3f}')"
   ]
  },
  {
   "cell_type": "code",
   "execution_count": 12,
   "metadata": {
    "ExecuteTime": {
     "end_time": "2021-09-25T18:32:06.536279Z",
     "start_time": "2021-09-25T18:32:06.509814Z"
    }
   },
   "outputs": [
    {
     "data": {
      "text/html": [
       "<div>\n",
       "<style scoped>\n",
       "    .dataframe tbody tr th:only-of-type {\n",
       "        vertical-align: middle;\n",
       "    }\n",
       "\n",
       "    .dataframe tbody tr th {\n",
       "        vertical-align: top;\n",
       "    }\n",
       "\n",
       "    .dataframe thead th {\n",
       "        text-align: right;\n",
       "    }\n",
       "</style>\n",
       "<table border=\"1\" class=\"dataframe\">\n",
       "  <thead>\n",
       "    <tr style=\"text-align: right;\">\n",
       "      <th></th>\n",
       "      <th>Feature Id</th>\n",
       "      <th>Importances</th>\n",
       "    </tr>\n",
       "  </thead>\n",
       "  <tbody>\n",
       "    <tr>\n",
       "      <th>0</th>\n",
       "      <td>city</td>\n",
       "      <td>8.071964</td>\n",
       "    </tr>\n",
       "    <tr>\n",
       "      <th>1</th>\n",
       "      <td>total_square</td>\n",
       "      <td>7.342278</td>\n",
       "    </tr>\n",
       "    <tr>\n",
       "      <th>2</th>\n",
       "      <td>floor</td>\n",
       "      <td>4.817922</td>\n",
       "    </tr>\n",
       "    <tr>\n",
       "      <th>3</th>\n",
       "      <td>realty_type</td>\n",
       "      <td>4.656558</td>\n",
       "    </tr>\n",
       "    <tr>\n",
       "      <th>4</th>\n",
       "      <td>osm_train_stop_closest_dist</td>\n",
       "      <td>3.711538</td>\n",
       "    </tr>\n",
       "    <tr>\n",
       "      <th>...</th>\n",
       "      <td>...</td>\n",
       "      <td>...</td>\n",
       "    </tr>\n",
       "    <tr>\n",
       "      <th>68</th>\n",
       "      <td>osm_building_points_in_0.01</td>\n",
       "      <td>0.200341</td>\n",
       "    </tr>\n",
       "    <tr>\n",
       "      <th>69</th>\n",
       "      <td>osm_healthcare_points_in_0.005</td>\n",
       "      <td>0.177565</td>\n",
       "    </tr>\n",
       "    <tr>\n",
       "      <th>70</th>\n",
       "      <td>osm_leisure_points_in_0.0075</td>\n",
       "      <td>0.161400</td>\n",
       "    </tr>\n",
       "    <tr>\n",
       "      <th>71</th>\n",
       "      <td>osm_building_points_in_0.001</td>\n",
       "      <td>0.131856</td>\n",
       "    </tr>\n",
       "    <tr>\n",
       "      <th>72</th>\n",
       "      <td>osm_train_stop_points_in_0.0075</td>\n",
       "      <td>0.000000</td>\n",
       "    </tr>\n",
       "  </tbody>\n",
       "</table>\n",
       "<p>73 rows × 2 columns</p>\n",
       "</div>"
      ],
      "text/plain": [
       "                         Feature Id  Importances\n",
       "0                              city     8.071964\n",
       "1                      total_square     7.342278\n",
       "2                             floor     4.817922\n",
       "3                       realty_type     4.656558\n",
       "4       osm_train_stop_closest_dist     3.711538\n",
       "..                              ...          ...\n",
       "68      osm_building_points_in_0.01     0.200341\n",
       "69   osm_healthcare_points_in_0.005     0.177565\n",
       "70     osm_leisure_points_in_0.0075     0.161400\n",
       "71     osm_building_points_in_0.001     0.131856\n",
       "72  osm_train_stop_points_in_0.0075     0.000000\n",
       "\n",
       "[73 rows x 2 columns]"
      ]
     },
     "execution_count": 12,
     "metadata": {},
     "output_type": "execute_result"
    }
   ],
   "source": [
    "model.get_feature_importance(prettified=True)"
   ]
  },
  {
   "cell_type": "markdown",
   "metadata": {},
   "source": [
    "# Финальная модель\n",
    "\n",
    "Обучим финальную модель и сделаем предикт"
   ]
  },
  {
   "cell_type": "code",
   "execution_count": 13,
   "metadata": {
    "ExecuteTime": {
     "end_time": "2021-09-25T18:32:14.105074Z",
     "start_time": "2021-09-25T18:32:06.538334Z"
    }
   },
   "outputs": [],
   "source": [
    "Xy_train = dataset[(dataset['train'] == 1)].reset_index(drop=True)\n",
    "Xy_test = dataset[(dataset['train'] == 0)].reset_index(drop=True)\n",
    "\n",
    "model = clone(main_model)\n",
    "model = CatBoostRegressor(loss_function='MAE', verbose=0)\n",
    "model = model.fit(Xy_train.drop(key_cols, axis=1), Xy_train['target'], cat_features=cat_cols)"
   ]
  },
  {
   "cell_type": "code",
   "execution_count": 14,
   "metadata": {
    "ExecuteTime": {
     "end_time": "2021-09-25T18:32:14.133472Z",
     "start_time": "2021-09-25T18:32:14.106470Z"
    }
   },
   "outputs": [],
   "source": [
    "Xy_test['per_square_meter_price'] = model.predict(Xy_test.drop(key_cols, axis=1))\n",
    "Xy_test[['id', 'per_square_meter_price']].to_csv('sub1.csv', index=False)"
   ]
  },
  {
   "cell_type": "markdown",
   "metadata": {},
   "source": [
    "# Дальнейшие идеи\n",
    "\n",
    "* Покрутить признаки\n",
    "* потюнить модель\n",
    "* Подумать, что можно сделать с отфильтрованной частью датасета\n",
    "* Поиспользовать внешние данные :)"
   ]
  }
 ],
 "metadata": {
  "kernelspec": {
   "display_name": "Python 3",
   "language": "python",
   "name": "python3"
  },
  "language_info": {
   "codemirror_mode": {
    "name": "ipython",
    "version": 3
   },
   "file_extension": ".py",
   "mimetype": "text/x-python",
   "name": "python",
   "nbconvert_exporter": "python",
   "pygments_lexer": "ipython3",
   "version": "3.8.8"
  },
  "toc": {
   "base_numbering": 1,
   "nav_menu": {},
   "number_sections": true,
   "sideBar": true,
   "skip_h1_title": false,
   "title_cell": "Table of Contents",
   "title_sidebar": "Contents",
   "toc_cell": false,
   "toc_position": {},
   "toc_section_display": true,
   "toc_window_display": false
  }
 },
 "nbformat": 4,
 "nbformat_minor": 4
}
